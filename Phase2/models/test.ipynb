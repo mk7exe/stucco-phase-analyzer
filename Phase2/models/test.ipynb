{
 "metadata": {
  "language_info": {
   "codemirror_mode": {
    "name": "ipython",
    "version": 3
   },
   "file_extension": ".py",
   "mimetype": "text/x-python",
   "name": "python",
   "nbconvert_exporter": "python",
   "pygments_lexer": "ipython3",
   "version": "3.7.0-final"
  },
  "orig_nbformat": 2,
  "kernelspec": {
   "name": "python3",
   "display_name": "Python 3",
   "language": "python"
  }
 },
 "nbformat": 4,
 "nbformat_minor": 2,
 "cells": [
  {
   "cell_type": "code",
   "execution_count": 1,
   "metadata": {},
   "outputs": [],
   "source": [
    "# https://scikit-learn.org/stable/datasets/index.html\n",
    "\n",
    "# Importing the libraries\n",
    "import pandas as pd\n",
    "import tensorflow as tf\n",
    "import numpy as np\n",
    "import matplotlib.pyplot as plt\n",
    "from tensorflow.keras.models import Model\n",
    "from tensorflow.keras.layers import Dense, Input\n",
    "from sklearn.model_selection import train_test_split\n",
    "\n",
    "# Importing the Boston Housing dataset\n",
    "from sklearn.datasets import load_boston"
   ]
  },
  {
   "cell_type": "code",
   "execution_count": 2,
   "metadata": {},
   "outputs": [],
   "source": [
    "\n",
    "# Loading the Boston Housing dataset\n",
    "boston = load_boston()"
   ]
  },
  {
   "cell_type": "code",
   "execution_count": 3,
   "metadata": {},
   "outputs": [],
   "source": [
    "\n",
    "# Initializing the dataframe\n",
    "data = pd.DataFrame(boston.data)"
   ]
  },
  {
   "cell_type": "code",
   "execution_count": 4,
   "metadata": {},
   "outputs": [],
   "source": [
    "#Adding the feature names to the dataframe\n",
    "data.columns = boston.feature_names"
   ]
  },
  {
   "cell_type": "code",
   "execution_count": 5,
   "metadata": {},
   "outputs": [
    {
     "output_type": "execute_result",
     "data": {
      "text/plain": [
       "      CRIM    ZN  INDUS  CHAS    NOX     RM   AGE     DIS  RAD    TAX  \\\n",
       "0  0.00632  18.0   2.31   0.0  0.538  6.575  65.2  4.0900  1.0  296.0   \n",
       "1  0.02731   0.0   7.07   0.0  0.469  6.421  78.9  4.9671  2.0  242.0   \n",
       "2  0.02729   0.0   7.07   0.0  0.469  7.185  61.1  4.9671  2.0  242.0   \n",
       "3  0.03237   0.0   2.18   0.0  0.458  6.998  45.8  6.0622  3.0  222.0   \n",
       "4  0.06905   0.0   2.18   0.0  0.458  7.147  54.2  6.0622  3.0  222.0   \n",
       "\n",
       "   PTRATIO       B  LSTAT  PRICE  \n",
       "0     15.3  396.90   4.98   24.0  \n",
       "1     17.8  396.90   9.14   21.6  \n",
       "2     17.8  392.83   4.03   34.7  \n",
       "3     18.7  394.63   2.94   33.4  \n",
       "4     18.7  396.90   5.33   36.2  "
      ],
      "text/html": "<div>\n<style scoped>\n    .dataframe tbody tr th:only-of-type {\n        vertical-align: middle;\n    }\n\n    .dataframe tbody tr th {\n        vertical-align: top;\n    }\n\n    .dataframe thead th {\n        text-align: right;\n    }\n</style>\n<table border=\"1\" class=\"dataframe\">\n  <thead>\n    <tr style=\"text-align: right;\">\n      <th></th>\n      <th>CRIM</th>\n      <th>ZN</th>\n      <th>INDUS</th>\n      <th>CHAS</th>\n      <th>NOX</th>\n      <th>RM</th>\n      <th>AGE</th>\n      <th>DIS</th>\n      <th>RAD</th>\n      <th>TAX</th>\n      <th>PTRATIO</th>\n      <th>B</th>\n      <th>LSTAT</th>\n      <th>PRICE</th>\n    </tr>\n  </thead>\n  <tbody>\n    <tr>\n      <th>0</th>\n      <td>0.00632</td>\n      <td>18.0</td>\n      <td>2.31</td>\n      <td>0.0</td>\n      <td>0.538</td>\n      <td>6.575</td>\n      <td>65.2</td>\n      <td>4.0900</td>\n      <td>1.0</td>\n      <td>296.0</td>\n      <td>15.3</td>\n      <td>396.90</td>\n      <td>4.98</td>\n      <td>24.0</td>\n    </tr>\n    <tr>\n      <th>1</th>\n      <td>0.02731</td>\n      <td>0.0</td>\n      <td>7.07</td>\n      <td>0.0</td>\n      <td>0.469</td>\n      <td>6.421</td>\n      <td>78.9</td>\n      <td>4.9671</td>\n      <td>2.0</td>\n      <td>242.0</td>\n      <td>17.8</td>\n      <td>396.90</td>\n      <td>9.14</td>\n      <td>21.6</td>\n    </tr>\n    <tr>\n      <th>2</th>\n      <td>0.02729</td>\n      <td>0.0</td>\n      <td>7.07</td>\n      <td>0.0</td>\n      <td>0.469</td>\n      <td>7.185</td>\n      <td>61.1</td>\n      <td>4.9671</td>\n      <td>2.0</td>\n      <td>242.0</td>\n      <td>17.8</td>\n      <td>392.83</td>\n      <td>4.03</td>\n      <td>34.7</td>\n    </tr>\n    <tr>\n      <th>3</th>\n      <td>0.03237</td>\n      <td>0.0</td>\n      <td>2.18</td>\n      <td>0.0</td>\n      <td>0.458</td>\n      <td>6.998</td>\n      <td>45.8</td>\n      <td>6.0622</td>\n      <td>3.0</td>\n      <td>222.0</td>\n      <td>18.7</td>\n      <td>394.63</td>\n      <td>2.94</td>\n      <td>33.4</td>\n    </tr>\n    <tr>\n      <th>4</th>\n      <td>0.06905</td>\n      <td>0.0</td>\n      <td>2.18</td>\n      <td>0.0</td>\n      <td>0.458</td>\n      <td>7.147</td>\n      <td>54.2</td>\n      <td>6.0622</td>\n      <td>3.0</td>\n      <td>222.0</td>\n      <td>18.7</td>\n      <td>396.90</td>\n      <td>5.33</td>\n      <td>36.2</td>\n    </tr>\n  </tbody>\n</table>\n</div>"
     },
     "metadata": {},
     "execution_count": 5
    }
   ],
   "source": [
    "#Adding target variable to dataframe\n",
    "data['PRICE'] = boston.target\n",
    "data.head()"
   ]
  },
  {
   "cell_type": "code",
   "execution_count": 6,
   "metadata": {},
   "outputs": [
    {
     "output_type": "execute_result",
     "data": {
      "text/plain": [
       "(506, 14)"
      ]
     },
     "metadata": {},
     "execution_count": 6
    }
   ],
   "source": [
    "#Check the shape of dataframe\n",
    "data.shape"
   ]
  },
  {
   "cell_type": "code",
   "execution_count": 7,
   "metadata": {},
   "outputs": [],
   "source": [
    "# Split the data into train and test with 80 train / 20 test\n",
    "train, test = train_test_split(data, test_size=0.2, random_state = 1)\n",
    "train, val = train_test_split(train, test_size=0.2, random_state = 1)"
   ]
  },
  {
   "cell_type": "code",
   "execution_count": 8,
   "metadata": {},
   "outputs": [],
   "source": [
    "# Helper functions\n",
    "def norm(x):\n",
    "    return (x - train_stats['mean']) / train_stats['std']\n",
    "\n",
    "def format_output(data):\n",
    "    y1 = data.pop('PRICE')\n",
    "    y1 = np.array(y1)\n",
    "    y2 = data.pop('PTRATIO')\n",
    "    y2 = np.array(y2)\n",
    "    return y1, y2"
   ]
  },
  {
   "cell_type": "code",
   "execution_count": 9,
   "metadata": {},
   "outputs": [],
   "source": [
    "# Get Y1 and Y2 as the 2 outputs and format them as np arrays\n",
    "# PTRATIO - pupil-teacher ratio by town\n",
    "train_stats = train.describe()\n",
    "train_stats.pop('PRICE')\n",
    "train_stats.pop('PTRATIO')\n",
    "train_stats = train_stats.transpose()\n",
    "train_Y = format_output(train)\n",
    "test_Y = format_output(test)\n",
    "val_Y = format_output(val)"
   ]
  },
  {
   "cell_type": "code",
   "execution_count": 10,
   "metadata": {},
   "outputs": [],
   "source": [
    "\n",
    "# Normalize the training and test data\n",
    "norm_train_X = np.array(norm(train))\n",
    "norm_test_X = np.array(norm(test))\n",
    "norm_val_X = np.array(norm(val))"
   ]
  },
  {
   "cell_type": "code",
   "execution_count": 24,
   "metadata": {},
   "outputs": [
    {
     "output_type": "stream",
     "name": "stdout",
     "text": [
      "12 12\n"
     ]
    }
   ],
   "source": [
    "print(len(norm_train_X[0]), len(train .columns))"
   ]
  },
  {
   "cell_type": "code",
   "execution_count": 21,
   "metadata": {},
   "outputs": [],
   "source": [
    "\n",
    "def build_model():\n",
    "    # Define model layers.\n",
    "    input_layer = Input(shape=(len(train .columns),))\n",
    "    first_dense = Dense(units='128', activation='relu')(input_layer)\n",
    "    # Y1 output will be fed from the first dense\n",
    "    y1_output = Dense(units='1', name='price_output')(first_dense)\n",
    "\n",
    "    second_dense = Dense(units='128', activation='relu')(first_dense)\n",
    "    # Y2 output will be fed from the second dense\n",
    "    y2_output = Dense(units='1', name='ptratio_output')(second_dense)\n",
    "\n",
    "    # Define the model with the input layer and a list of output layers\n",
    "    model = Model(inputs=input_layer, outputs=[y1_output, y2_output])\n",
    "\n",
    "    return model"
   ]
  },
  {
   "cell_type": "code",
   "execution_count": 22,
   "metadata": {},
   "outputs": [],
   "source": [
    "\n",
    "model = build_model()\n",
    "\n",
    "# Specify the optimizer, and compile the model with loss functions for both outputs\n",
    "optimizer = tf.keras.optimizers.SGD(lr=0.001)\n",
    "model.compile(optimizer=optimizer,\n",
    "              loss={'price_output': 'mse', 'ptratio_output': 'mse'},\n",
    "              metrics={'price_output': tf.keras.metrics.RootMeanSquaredError(),\n",
    "                       'ptratio_output': tf.keras.metrics.RootMeanSquaredError()})"
   ]
  },
  {
   "cell_type": "code",
   "execution_count": 23,
   "metadata": {
    "tags": [
     "outputPrepend"
    ]
   },
   "outputs": [
    {
     "output_type": "stream",
     "name": "stdout",
     "text": [
      "ss: 13.0519 - price_output_loss: 11.6814 - ptratio_output_loss: 1.3705 - price_output_root_mean_squared_error: 3.4092 - ptratio_output_root_mean_squared_error: 1.1680 - val_loss: 14.2085 - val_price_output_loss: 11.6886 - val_ptratio_output_loss: 2.5198 - val_price_output_root_mean_squared_error: 3.4189 - val_ptratio_output_root_mean_squared_error: 1.5874\n",
      "Epoch 55/100\n",
      "33/33 [==============================] - 0s 4ms/step - loss: 11.0865 - price_output_loss: 9.4674 - ptratio_output_loss: 1.6191 - price_output_root_mean_squared_error: 3.0455 - ptratio_output_root_mean_squared_error: 1.2718 - val_loss: 15.0105 - val_price_output_loss: 12.4860 - val_ptratio_output_loss: 2.5245 - val_price_output_root_mean_squared_error: 3.5336 - val_ptratio_output_root_mean_squared_error: 1.5889\n",
      "Epoch 56/100\n",
      "33/33 [==============================] - 0s 3ms/step - loss: 16.2376 - price_output_loss: 14.7668 - ptratio_output_loss: 1.4708 - price_output_root_mean_squared_error: 3.7944 - ptratio_output_root_mean_squared_error: 1.2096 - val_loss: 13.9184 - val_price_output_loss: 11.3514 - val_ptratio_output_loss: 2.5669 - val_price_output_root_mean_squared_error: 3.3692 - val_ptratio_output_root_mean_squared_error: 1.6022\n",
      "Epoch 57/100\n",
      "33/33 [==============================] - 0s 4ms/step - loss: 10.7195 - price_output_loss: 9.3149 - ptratio_output_loss: 1.4046 - price_output_root_mean_squared_error: 3.0413 - ptratio_output_root_mean_squared_error: 1.1823 - val_loss: 15.1562 - val_price_output_loss: 11.9175 - val_ptratio_output_loss: 3.2387 - val_price_output_root_mean_squared_error: 3.4522 - val_ptratio_output_root_mean_squared_error: 1.7996\n",
      "Epoch 58/100\n",
      "33/33 [==============================] - 0s 4ms/step - loss: 11.2929 - price_output_loss: 9.6714 - ptratio_output_loss: 1.6215 - price_output_root_mean_squared_error: 3.0983 - ptratio_output_root_mean_squared_error: 1.2722 - val_loss: 13.9462 - val_price_output_loss: 11.2617 - val_ptratio_output_loss: 2.6845 - val_price_output_root_mean_squared_error: 3.3558 - val_ptratio_output_root_mean_squared_error: 1.6384\n",
      "Epoch 59/100\n",
      "33/33 [==============================] - 0s 4ms/step - loss: 11.6026 - price_output_loss: 10.0466 - ptratio_output_loss: 1.5560 - price_output_root_mean_squared_error: 3.1625 - ptratio_output_root_mean_squared_error: 1.2447 - val_loss: 13.9795 - val_price_output_loss: 11.4646 - val_ptratio_output_loss: 2.5149 - val_price_output_root_mean_squared_error: 3.3859 - val_ptratio_output_root_mean_squared_error: 1.5858\n",
      "Epoch 60/100\n",
      "33/33 [==============================] - 0s 3ms/step - loss: 14.5155 - price_output_loss: 13.0030 - ptratio_output_loss: 1.5125 - price_output_root_mean_squared_error: 3.5819 - ptratio_output_root_mean_squared_error: 1.2275 - val_loss: 13.4167 - val_price_output_loss: 10.9355 - val_ptratio_output_loss: 2.4812 - val_price_output_root_mean_squared_error: 3.3069 - val_ptratio_output_root_mean_squared_error: 1.5752\n",
      "Epoch 61/100\n",
      "33/33 [==============================] - 0s 4ms/step - loss: 11.1652 - price_output_loss: 9.8089 - ptratio_output_loss: 1.3562 - price_output_root_mean_squared_error: 3.1220 - ptratio_output_root_mean_squared_error: 1.1610 - val_loss: 13.8292 - val_price_output_loss: 11.4131 - val_ptratio_output_loss: 2.4162 - val_price_output_root_mean_squared_error: 3.3783 - val_ptratio_output_root_mean_squared_error: 1.5544\n",
      "Epoch 62/100\n",
      "33/33 [==============================] - 0s 3ms/step - loss: 11.6207 - price_output_loss: 10.2550 - ptratio_output_loss: 1.3657 - price_output_root_mean_squared_error: 3.1946 - ptratio_output_root_mean_squared_error: 1.1671 - val_loss: 14.2079 - val_price_output_loss: 11.6943 - val_ptratio_output_loss: 2.5136 - val_price_output_root_mean_squared_error: 3.4197 - val_ptratio_output_root_mean_squared_error: 1.5854\n",
      "Epoch 63/100\n",
      "33/33 [==============================] - 0s 4ms/step - loss: 14.3722 - price_output_loss: 12.9659 - ptratio_output_loss: 1.4063 - price_output_root_mean_squared_error: 3.5838 - ptratio_output_root_mean_squared_error: 1.1855 - val_loss: 14.0222 - val_price_output_loss: 11.2426 - val_ptratio_output_loss: 2.7796 - val_price_output_root_mean_squared_error: 3.3530 - val_ptratio_output_root_mean_squared_error: 1.6672\n",
      "Epoch 64/100\n",
      "33/33 [==============================] - 0s 4ms/step - loss: 10.1799 - price_output_loss: 8.7352 - ptratio_output_loss: 1.4447 - price_output_root_mean_squared_error: 2.9418 - ptratio_output_root_mean_squared_error: 1.1983 - val_loss: 13.7919 - val_price_output_loss: 11.2195 - val_ptratio_output_loss: 2.5724 - val_price_output_root_mean_squared_error: 3.3496 - val_ptratio_output_root_mean_squared_error: 1.6039\n",
      "Epoch 65/100\n",
      "33/33 [==============================] - 0s 4ms/step - loss: 11.9937 - price_output_loss: 10.6055 - ptratio_output_loss: 1.3882 - price_output_root_mean_squared_error: 3.2457 - ptratio_output_root_mean_squared_error: 1.1766 - val_loss: 13.1698 - val_price_output_loss: 10.7384 - val_ptratio_output_loss: 2.4314 - val_price_output_root_mean_squared_error: 3.2769 - val_ptratio_output_root_mean_squared_error: 1.5593\n",
      "Epoch 66/100\n",
      "33/33 [==============================] - 0s 4ms/step - loss: 12.6167 - price_output_loss: 11.4135 - ptratio_output_loss: 1.2032 - price_output_root_mean_squared_error: 3.3721 - ptratio_output_root_mean_squared_error: 1.0948 - val_loss: 13.8164 - val_price_output_loss: 11.2890 - val_ptratio_output_loss: 2.5275 - val_price_output_root_mean_squared_error: 3.3599 - val_ptratio_output_root_mean_squared_error: 1.5898\n",
      "Epoch 67/100\n",
      "33/33 [==============================] - 0s 4ms/step - loss: 9.6651 - price_output_loss: 8.3138 - ptratio_output_loss: 1.3513 - price_output_root_mean_squared_error: 2.8582 - ptratio_output_root_mean_squared_error: 1.1613 - val_loss: 13.9667 - val_price_output_loss: 11.4597 - val_ptratio_output_loss: 2.5069 - val_price_output_root_mean_squared_error: 3.3852 - val_ptratio_output_root_mean_squared_error: 1.5833\n",
      "Epoch 68/100\n",
      "33/33 [==============================] - 0s 4ms/step - loss: 9.1603 - price_output_loss: 7.9037 - ptratio_output_loss: 1.2567 - price_output_root_mean_squared_error: 2.7830 - ptratio_output_root_mean_squared_error: 1.1203 - val_loss: 13.9517 - val_price_output_loss: 11.4381 - val_ptratio_output_loss: 2.5136 - val_price_output_root_mean_squared_error: 3.3820 - val_ptratio_output_root_mean_squared_error: 1.5854\n",
      "Epoch 69/100\n",
      "33/33 [==============================] - 0s 4ms/step - loss: 12.7081 - price_output_loss: 11.2641 - ptratio_output_loss: 1.4440 - price_output_root_mean_squared_error: 3.3377 - ptratio_output_root_mean_squared_error: 1.1994 - val_loss: 13.6888 - val_price_output_loss: 11.1553 - val_ptratio_output_loss: 2.5335 - val_price_output_root_mean_squared_error: 3.3400 - val_ptratio_output_root_mean_squared_error: 1.5917\n",
      "Epoch 70/100\n",
      "33/33 [==============================] - 0s 4ms/step - loss: 10.0575 - price_output_loss: 8.7535 - ptratio_output_loss: 1.3040 - price_output_root_mean_squared_error: 2.9476 - ptratio_output_root_mean_squared_error: 1.1414 - val_loss: 15.0134 - val_price_output_loss: 12.5714 - val_ptratio_output_loss: 2.4420 - val_price_output_root_mean_squared_error: 3.5456 - val_ptratio_output_root_mean_squared_error: 1.5627\n",
      "Epoch 71/100\n",
      "33/33 [==============================] - 0s 5ms/step - loss: 11.6757 - price_output_loss: 10.2912 - ptratio_output_loss: 1.3845 - price_output_root_mean_squared_error: 3.2046 - ptratio_output_root_mean_squared_error: 1.1759 - val_loss: 18.7519 - val_price_output_loss: 16.2377 - val_ptratio_output_loss: 2.5142 - val_price_output_root_mean_squared_error: 4.0296 - val_ptratio_output_root_mean_squared_error: 1.5856\n",
      "Epoch 72/100\n",
      "33/33 [==============================] - 0s 4ms/step - loss: 12.3791 - price_output_loss: 10.9513 - ptratio_output_loss: 1.4278 - price_output_root_mean_squared_error: 3.3035 - ptratio_output_root_mean_squared_error: 1.1920 - val_loss: 13.7021 - val_price_output_loss: 11.2382 - val_ptratio_output_loss: 2.4639 - val_price_output_root_mean_squared_error: 3.3523 - val_ptratio_output_root_mean_squared_error: 1.5697\n",
      "Epoch 73/100\n",
      "33/33 [==============================] - 0s 4ms/step - loss: 11.2143 - price_output_loss: 9.8986 - ptratio_output_loss: 1.3158 - price_output_root_mean_squared_error: 3.1389 - ptratio_output_root_mean_squared_error: 1.1469 - val_loss: 14.1108 - val_price_output_loss: 11.5240 - val_ptratio_output_loss: 2.5868 - val_price_output_root_mean_squared_error: 3.3947 - val_ptratio_output_root_mean_squared_error: 1.6084\n",
      "Epoch 74/100\n",
      "33/33 [==============================] - 0s 4ms/step - loss: 11.3609 - price_output_loss: 10.0281 - ptratio_output_loss: 1.3328 - price_output_root_mean_squared_error: 3.1606 - ptratio_output_root_mean_squared_error: 1.1523 - val_loss: 15.4747 - val_price_output_loss: 13.0784 - val_ptratio_output_loss: 2.3963 - val_price_output_root_mean_squared_error: 3.6164 - val_ptratio_output_root_mean_squared_error: 1.5480\n",
      "Epoch 75/100\n",
      "33/33 [==============================] - 0s 5ms/step - loss: 11.0622 - price_output_loss: 9.7481 - ptratio_output_loss: 1.3141 - price_output_root_mean_squared_error: 3.1141 - ptratio_output_root_mean_squared_error: 1.1439 - val_loss: 14.3198 - val_price_output_loss: 11.7881 - val_ptratio_output_loss: 2.5317 - val_price_output_root_mean_squared_error: 3.4334 - val_ptratio_output_root_mean_squared_error: 1.5911\n",
      "Epoch 76/100\n",
      "33/33 [==============================] - 0s 4ms/step - loss: 9.1163 - price_output_loss: 7.7623 - ptratio_output_loss: 1.3540 - price_output_root_mean_squared_error: 2.7715 - ptratio_output_root_mean_squared_error: 1.1628 - val_loss: 15.6191 - val_price_output_loss: 13.1050 - val_ptratio_output_loss: 2.5141 - val_price_output_root_mean_squared_error: 3.6201 - val_ptratio_output_root_mean_squared_error: 1.5856\n",
      "Epoch 77/100\n",
      "33/33 [==============================] - 0s 5ms/step - loss: 11.1029 - price_output_loss: 9.7120 - ptratio_output_loss: 1.3910 - price_output_root_mean_squared_error: 3.1146 - ptratio_output_root_mean_squared_error: 1.1750 - val_loss: 13.8244 - val_price_output_loss: 11.3651 - val_ptratio_output_loss: 2.4593 - val_price_output_root_mean_squared_error: 3.3712 - val_ptratio_output_root_mean_squared_error: 1.5682\n",
      "Epoch 78/100\n",
      "33/33 [==============================] - 0s 4ms/step - loss: 9.5895 - price_output_loss: 8.4887 - ptratio_output_loss: 1.1008 - price_output_root_mean_squared_error: 2.8698 - ptratio_output_root_mean_squared_error: 1.0479 - val_loss: 13.4985 - val_price_output_loss: 11.0183 - val_ptratio_output_loss: 2.4802 - val_price_output_root_mean_squared_error: 3.3194 - val_ptratio_output_root_mean_squared_error: 1.5749\n",
      "Epoch 79/100\n",
      "33/33 [==============================] - 0s 4ms/step - loss: 9.8490 - price_output_loss: 8.6352 - ptratio_output_loss: 1.2138 - price_output_root_mean_squared_error: 2.9268 - ptratio_output_root_mean_squared_error: 1.1007 - val_loss: 13.7151 - val_price_output_loss: 11.3735 - val_ptratio_output_loss: 2.3416 - val_price_output_root_mean_squared_error: 3.3725 - val_ptratio_output_root_mean_squared_error: 1.5302\n",
      "Epoch 80/100\n",
      "33/33 [==============================] - 0s 4ms/step - loss: 11.7872 - price_output_loss: 10.5479 - ptratio_output_loss: 1.2393 - price_output_root_mean_squared_error: 3.2382 - ptratio_output_root_mean_squared_error: 1.1100 - val_loss: 14.2483 - val_price_output_loss: 11.6547 - val_ptratio_output_loss: 2.5935 - val_price_output_root_mean_squared_error: 3.4139 - val_ptratio_output_root_mean_squared_error: 1.6104\n",
      "Epoch 81/100\n",
      "33/33 [==============================] - 0s 3ms/step - loss: 12.8157 - price_output_loss: 11.5676 - ptratio_output_loss: 1.2481 - price_output_root_mean_squared_error: 3.3580 - ptratio_output_root_mean_squared_error: 1.1165 - val_loss: 15.3457 - val_price_output_loss: 11.8098 - val_ptratio_output_loss: 3.5359 - val_price_output_root_mean_squared_error: 3.4365 - val_ptratio_output_root_mean_squared_error: 1.8804\n",
      "Epoch 82/100\n",
      "33/33 [==============================] - 0s 4ms/step - loss: 10.5211 - price_output_loss: 9.2653 - ptratio_output_loss: 1.2557 - price_output_root_mean_squared_error: 3.0423 - ptratio_output_root_mean_squared_error: 1.1201 - val_loss: 14.4749 - val_price_output_loss: 11.4717 - val_ptratio_output_loss: 3.0031 - val_price_output_root_mean_squared_error: 3.3870 - val_ptratio_output_root_mean_squared_error: 1.7330\n",
      "Epoch 83/100\n",
      "33/33 [==============================] - 0s 4ms/step - loss: 14.0959 - price_output_loss: 12.7973 - ptratio_output_loss: 1.2986 - price_output_root_mean_squared_error: 3.5486 - ptratio_output_root_mean_squared_error: 1.1368 - val_loss: 13.9461 - val_price_output_loss: 11.3191 - val_ptratio_output_loss: 2.6270 - val_price_output_root_mean_squared_error: 3.3644 - val_ptratio_output_root_mean_squared_error: 1.6208\n",
      "Epoch 84/100\n",
      "33/33 [==============================] - 0s 5ms/step - loss: 10.3539 - price_output_loss: 9.1726 - ptratio_output_loss: 1.1814 - price_output_root_mean_squared_error: 3.0158 - ptratio_output_root_mean_squared_error: 1.0847 - val_loss: 13.4250 - val_price_output_loss: 10.9778 - val_ptratio_output_loss: 2.4472 - val_price_output_root_mean_squared_error: 3.3133 - val_ptratio_output_root_mean_squared_error: 1.5643\n",
      "Epoch 85/100\n",
      "33/33 [==============================] - 0s 4ms/step - loss: 9.4445 - price_output_loss: 8.1529 - ptratio_output_loss: 1.2916 - price_output_root_mean_squared_error: 2.8474 - ptratio_output_root_mean_squared_error: 1.1343 - val_loss: 14.3267 - val_price_output_loss: 11.8147 - val_ptratio_output_loss: 2.5120 - val_price_output_root_mean_squared_error: 3.4373 - val_ptratio_output_root_mean_squared_error: 1.5849\n",
      "Epoch 86/100\n",
      "33/33 [==============================] - 0s 4ms/step - loss: 10.1596 - price_output_loss: 9.0372 - ptratio_output_loss: 1.1224 - price_output_root_mean_squared_error: 3.0012 - ptratio_output_root_mean_squared_error: 1.0585 - val_loss: 13.9731 - val_price_output_loss: 11.4867 - val_ptratio_output_loss: 2.4864 - val_price_output_root_mean_squared_error: 3.3892 - val_ptratio_output_root_mean_squared_error: 1.5768\n",
      "Epoch 87/100\n",
      "33/33 [==============================] - 0s 4ms/step - loss: 9.8090 - price_output_loss: 8.8209 - ptratio_output_loss: 0.9880 - price_output_root_mean_squared_error: 2.9563 - ptratio_output_root_mean_squared_error: 0.9878 - val_loss: 13.6378 - val_price_output_loss: 11.2535 - val_ptratio_output_loss: 2.3843 - val_price_output_root_mean_squared_error: 3.3546 - val_ptratio_output_root_mean_squared_error: 1.5441\n",
      "Epoch 88/100\n",
      "33/33 [==============================] - 0s 4ms/step - loss: 9.5306 - price_output_loss: 8.2635 - ptratio_output_loss: 1.2671 - price_output_root_mean_squared_error: 2.8639 - ptratio_output_root_mean_squared_error: 1.1237 - val_loss: 14.3607 - val_price_output_loss: 11.7223 - val_ptratio_output_loss: 2.6385 - val_price_output_root_mean_squared_error: 3.4238 - val_ptratio_output_root_mean_squared_error: 1.6243\n",
      "Epoch 89/100\n",
      "33/33 [==============================] - 0s 6ms/step - loss: 8.7933 - price_output_loss: 7.5989 - ptratio_output_loss: 1.1944 - price_output_root_mean_squared_error: 2.7155 - ptratio_output_root_mean_squared_error: 1.0917 - val_loss: 14.3389 - val_price_output_loss: 11.9158 - val_ptratio_output_loss: 2.4231 - val_price_output_root_mean_squared_error: 3.4519 - val_ptratio_output_root_mean_squared_error: 1.5566\n",
      "Epoch 90/100\n",
      "33/33 [==============================] - 0s 4ms/step - loss: 13.0290 - price_output_loss: 11.8650 - ptratio_output_loss: 1.1640 - price_output_root_mean_squared_error: 3.4250 - ptratio_output_root_mean_squared_error: 1.0783 - val_loss: 13.5530 - val_price_output_loss: 11.0290 - val_ptratio_output_loss: 2.5240 - val_price_output_root_mean_squared_error: 3.3210 - val_ptratio_output_root_mean_squared_error: 1.5887\n",
      "Epoch 91/100\n",
      "33/33 [==============================] - 0s 4ms/step - loss: 9.2268 - price_output_loss: 8.1488 - ptratio_output_loss: 1.0780 - price_output_root_mean_squared_error: 2.8298 - ptratio_output_root_mean_squared_error: 1.0372 - val_loss: 14.0431 - val_price_output_loss: 11.2312 - val_ptratio_output_loss: 2.8119 - val_price_output_root_mean_squared_error: 3.3513 - val_ptratio_output_root_mean_squared_error: 1.6769\n",
      "Epoch 92/100\n",
      "33/33 [==============================] - 0s 4ms/step - loss: 9.3885 - price_output_loss: 8.2588 - ptratio_output_loss: 1.1297 - price_output_root_mean_squared_error: 2.8677 - ptratio_output_root_mean_squared_error: 1.0613 - val_loss: 13.4434 - val_price_output_loss: 11.1168 - val_ptratio_output_loss: 2.3266 - val_price_output_root_mean_squared_error: 3.3342 - val_ptratio_output_root_mean_squared_error: 1.5253\n",
      "Epoch 93/100\n",
      "33/33 [==============================] - 0s 4ms/step - loss: 9.0966 - price_output_loss: 8.0672 - ptratio_output_loss: 1.0294 - price_output_root_mean_squared_error: 2.8233 - ptratio_output_root_mean_squared_error: 1.0134 - val_loss: 14.4740 - val_price_output_loss: 11.6443 - val_ptratio_output_loss: 2.8297 - val_price_output_root_mean_squared_error: 3.4124 - val_ptratio_output_root_mean_squared_error: 1.6822\n",
      "Epoch 94/100\n",
      "33/33 [==============================] - 0s 4ms/step - loss: 10.0873 - price_output_loss: 8.8995 - ptratio_output_loss: 1.1878 - price_output_root_mean_squared_error: 2.9786 - ptratio_output_root_mean_squared_error: 1.0880 - val_loss: 13.3803 - val_price_output_loss: 10.5948 - val_ptratio_output_loss: 2.7854 - val_price_output_root_mean_squared_error: 3.2550 - val_ptratio_output_root_mean_squared_error: 1.6690\n",
      "Epoch 95/100\n",
      "33/33 [==============================] - 0s 4ms/step - loss: 10.2665 - price_output_loss: 9.1817 - ptratio_output_loss: 1.0848 - price_output_root_mean_squared_error: 3.0115 - ptratio_output_root_mean_squared_error: 1.0407 - val_loss: 13.1097 - val_price_output_loss: 10.6854 - val_ptratio_output_loss: 2.4243 - val_price_output_root_mean_squared_error: 3.2689 - val_ptratio_output_root_mean_squared_error: 1.5570\n",
      "Epoch 96/100\n",
      "33/33 [==============================] - 0s 4ms/step - loss: 8.2484 - price_output_loss: 7.1098 - ptratio_output_loss: 1.1385 - price_output_root_mean_squared_error: 2.6340 - ptratio_output_root_mean_squared_error: 1.0662 - val_loss: 13.5356 - val_price_output_loss: 10.8345 - val_ptratio_output_loss: 2.7011 - val_price_output_root_mean_squared_error: 3.2916 - val_ptratio_output_root_mean_squared_error: 1.6435\n",
      "Epoch 97/100\n",
      "33/33 [==============================] - 0s 4ms/step - loss: 10.1569 - price_output_loss: 9.0283 - ptratio_output_loss: 1.1286 - price_output_root_mean_squared_error: 3.0023 - ptratio_output_root_mean_squared_error: 1.0581 - val_loss: 13.4709 - val_price_output_loss: 10.9183 - val_ptratio_output_loss: 2.5526 - val_price_output_root_mean_squared_error: 3.3043 - val_ptratio_output_root_mean_squared_error: 1.5977\n",
      "Epoch 98/100\n",
      "33/33 [==============================] - 0s 4ms/step - loss: 9.7208 - price_output_loss: 8.6972 - ptratio_output_loss: 1.0237 - price_output_root_mean_squared_error: 2.9290 - ptratio_output_root_mean_squared_error: 1.0107 - val_loss: 13.2399 - val_price_output_loss: 10.6858 - val_ptratio_output_loss: 2.5541 - val_price_output_root_mean_squared_error: 3.2689 - val_ptratio_output_root_mean_squared_error: 1.5982\n",
      "Epoch 99/100\n",
      "33/33 [==============================] - 0s 4ms/step - loss: 8.8224 - price_output_loss: 7.6158 - ptratio_output_loss: 1.2065 - price_output_root_mean_squared_error: 2.7527 - ptratio_output_root_mean_squared_error: 1.0976 - val_loss: 13.4868 - val_price_output_loss: 11.1129 - val_ptratio_output_loss: 2.3740 - val_price_output_root_mean_squared_error: 3.3336 - val_ptratio_output_root_mean_squared_error: 1.5408\n",
      "Epoch 100/100\n",
      "33/33 [==============================] - 0s 4ms/step - loss: 8.3491 - price_output_loss: 7.0593 - ptratio_output_loss: 1.2899 - price_output_root_mean_squared_error: 2.6518 - ptratio_output_root_mean_squared_error: 1.1332 - val_loss: 14.4666 - val_price_output_loss: 12.0027 - val_ptratio_output_loss: 2.4639 - val_price_output_root_mean_squared_error: 3.4645 - val_ptratio_output_root_mean_squared_error: 1.5697\n"
     ]
    }
   ],
   "source": [
    "# Train the model for 200 epochs\n",
    "history = model.fit(norm_train_X, train_Y,\n",
    "                    epochs=100, batch_size=10, validation_data=(norm_test_X, test_Y))"
   ]
  },
  {
   "cell_type": "code",
   "execution_count": null,
   "metadata": {},
   "outputs": [],
   "source": []
  }
 ]
}